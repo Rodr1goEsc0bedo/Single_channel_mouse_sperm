{
 "cells": [
  {
   "cell_type": "markdown",
   "id": "464d80ea-73e1-443b-88a5-cd9ebbf94cfd",
   "metadata": {},
   "source": [
    "# Open a set of t,x,y images and compute the mean value over a predefined threshold"
   ]
  },
  {
   "cell_type": "markdown",
   "id": "11f6406c-5d21-42c1-84c6-437e44ae93bc",
   "metadata": {},
   "source": [
    "## Libraries ##"
   ]
  },
  {
   "cell_type": "code",
   "execution_count": 1,
   "id": "603ef043-21be-4df2-a14d-d4c867e277d0",
   "metadata": {},
   "outputs": [],
   "source": [
    "import os\n",
    "import numpy as np\n",
    "import tifffile\n",
    "import csv"
   ]
  },
  {
   "cell_type": "markdown",
   "id": "9ed193c2-80e6-44b8-bd07-b5d34589b576",
   "metadata": {},
   "source": [
    "## Functions"
   ]
  },
  {
   "cell_type": "code",
   "execution_count": 2,
   "id": "196ca280-137e-49b6-9118-e317552317f9",
   "metadata": {},
   "outputs": [],
   "source": [
    "def mean_and_signal_mass(path, thr=130, nframes=48000):\n",
    "    \"\"\"\n",
    "    Compute the mean intensity and signal mass of pixels above a threshold\n",
    "    in the first nframes of a TIFF/OME-TIFF stack.\n",
    "    \n",
    "    Parameters\n",
    "    ----------\n",
    "    path : str\n",
    "        Path to the TIFF file.\n",
    "    thr : int or float, optional\n",
    "        Intensity threshold (default = 130).\n",
    "    nframes : int, optional\n",
    "        Number of frames from the beginning to analyze (default = 48000).\n",
    "    \n",
    "    Returns\n",
    "    -------\n",
    "    tuple\n",
    "        (mean_value, signal_mass)\n",
    "        - mean_value: float rounded to 2 decimals, np.nan if no pixel > thr\n",
    "        - signal_mass: float (sum of intensities above threshold), 0 if none\n",
    "    \"\"\"\n",
    "    img = tifffile.imread(path)\n",
    "    subset = img[:nframes]\n",
    "\n",
    "    mask = subset > thr\n",
    "    if mask.any():\n",
    "        mean_val = round(float(subset[mask].mean()), 2)\n",
    "        signal_mass = float(subset[mask].sum())\n",
    "    else:\n",
    "        mean_val = np.nan\n",
    "        signal_mass = 0.0\n",
    "\n",
    "    return mean_val, signal_mass\n"
   ]
  },
  {
   "cell_type": "markdown",
   "id": "717fbb4e-c170-4591-9dd2-0be25969adea",
   "metadata": {},
   "source": [
    "## Load data and set parameters"
   ]
  },
  {
   "cell_type": "code",
   "execution_count": 3,
   "id": "4431c129-6337-4cde-a03d-0dee0f3b876c",
   "metadata": {},
   "outputs": [
    {
     "data": {
      "text/plain": [
       "['F:\\\\ROIs_refinadas\\\\Con_NED\\\\Exp_20250910_Con_NED\\\\20250910_M2_cells3\\\\roi_00_ctr.ome.tif',\n",
       " 'F:\\\\ROIs_refinadas\\\\Con_NED\\\\Exp_20250910_Con_NED\\\\20250910_M2_cells3\\\\roi_00_iono.ome.tif',\n",
       " 'F:\\\\ROIs_refinadas\\\\Con_NED\\\\Exp_20250910_Con_NED\\\\20250910_M2_cells3\\\\roi_00_mib1.ome.tif',\n",
       " 'F:\\\\ROIs_refinadas\\\\Con_NED\\\\Exp_20250910_Con_NED\\\\20250910_M2_cells3\\\\roi_01_ctr.ome.tif',\n",
       " 'F:\\\\ROIs_refinadas\\\\Con_NED\\\\Exp_20250910_Con_NED\\\\20250910_M2_cells3\\\\roi_01_iono.ome.tif',\n",
       " 'F:\\\\ROIs_refinadas\\\\Con_NED\\\\Exp_20250910_Con_NED\\\\20250910_M2_cells3\\\\roi_01_mib1.ome.tif',\n",
       " 'F:\\\\ROIs_refinadas\\\\Con_NED\\\\Exp_20250910_Con_NED\\\\20250910_M2_cells3\\\\roi_02_ctr.ome.tif',\n",
       " 'F:\\\\ROIs_refinadas\\\\Con_NED\\\\Exp_20250910_Con_NED\\\\20250910_M2_cells3\\\\roi_02_iono.ome.tif',\n",
       " 'F:\\\\ROIs_refinadas\\\\Con_NED\\\\Exp_20250910_Con_NED\\\\20250910_M2_cells3\\\\roi_02_mib1.ome.tif',\n",
       " 'F:\\\\ROIs_refinadas\\\\Con_NED\\\\Exp_20250910_Con_NED\\\\20250910_M2_cells3\\\\roi_03_ctr.ome.tif',\n",
       " 'F:\\\\ROIs_refinadas\\\\Con_NED\\\\Exp_20250910_Con_NED\\\\20250910_M2_cells3\\\\roi_03_iono.ome.tif',\n",
       " 'F:\\\\ROIs_refinadas\\\\Con_NED\\\\Exp_20250910_Con_NED\\\\20250910_M2_cells3\\\\roi_03_mib1.ome.tif',\n",
       " 'F:\\\\ROIs_refinadas\\\\Con_NED\\\\Exp_20250910_Con_NED\\\\20250910_M2_cells3\\\\roi_04_ctr.ome.tif',\n",
       " 'F:\\\\ROIs_refinadas\\\\Con_NED\\\\Exp_20250910_Con_NED\\\\20250910_M2_cells3\\\\roi_04_iono.ome.tif',\n",
       " 'F:\\\\ROIs_refinadas\\\\Con_NED\\\\Exp_20250910_Con_NED\\\\20250910_M2_cells3\\\\roi_04_mib1.ome.tif']"
      ]
     },
     "execution_count": 3,
     "metadata": {},
     "output_type": "execute_result"
    }
   ],
   "source": [
    "main_dir = r\"F:\\ROIs_refinadas\\Con_NED\\Exp_20250910_Con_NED\\20250910_M2_cells3\"\n",
    "# Extensiones a considerar\n",
    "exts = (\".ome.tif\", \".ome.tiff\")\n",
    "\n",
    "file_paths = [\n",
    "    os.path.join(main_dir, f) for f in sorted(os.listdir(main_dir))\n",
    "    if f.lower().endswith(exts)\n",
    "    ]\n",
    "file_paths"
   ]
  },
  {
   "cell_type": "markdown",
   "id": "9868c34e-50da-4490-bc48-fcaafa790ef7",
   "metadata": {},
   "source": [
    "## Perform analysis"
   ]
  },
  {
   "cell_type": "code",
   "execution_count": 4,
   "id": "fde3ef30-b99f-4826-93e4-ef4e1522b041",
   "metadata": {},
   "outputs": [
    {
     "name": "stdout",
     "output_type": "stream",
     "text": [
      "roi_00_ctr.ome.tif: mean=134.26, signal_mass=2031170899.0\n",
      "roi_00_iono.ome.tif: mean=134.51, signal_mass=7508317024.0\n",
      "roi_00_mib1.ome.tif: mean=132.8, signal_mass=1215121657.0\n",
      "roi_01_ctr.ome.tif: mean=135.51, signal_mass=2187225975.0\n",
      "roi_01_iono.ome.tif: mean=132.59, signal_mass=4153123462.0\n",
      "roi_01_mib1.ome.tif: mean=131.56, signal_mass=156748740.0\n",
      "roi_02_ctr.ome.tif: mean=137.49, signal_mass=3088456983.0\n",
      "roi_02_iono.ome.tif: mean=138.21, signal_mass=9199934049.0\n",
      "roi_02_mib1.ome.tif: mean=131.83, signal_mass=405117594.0\n",
      "roi_03_ctr.ome.tif: mean=131.67, signal_mass=129204573.0\n",
      "roi_03_iono.ome.tif: mean=132.15, signal_mass=2499614464.0\n",
      "roi_03_mib1.ome.tif: mean=131.68, signal_mass=121090644.0\n",
      "roi_04_ctr.ome.tif: mean=131.84, signal_mass=151691896.0\n",
      "roi_04_iono.ome.tif: mean=132.25, signal_mass=2047619598.0\n",
      "roi_04_mib1.ome.tif: mean=131.86, signal_mass=142989847.0\n",
      "Results saved to: F:\\ROIs_refinadas\\Con_NED\\Exp_20250910_Con_NED\\20250910_M2_cells3\\mean_and_signal_mass_results_48000.csv\n"
     ]
    }
   ],
   "source": [
    "thr = 130\n",
    "nframes = 48000\n",
    "# Collect results\n",
    "results = []\n",
    "for path in file_paths:\n",
    "    mean_val, signal_mass = mean_and_signal_mass(path, thr=thr, nframes=nframes)\n",
    "    filename = os.path.basename(path)\n",
    "    results.append((filename, mean_val, signal_mass))\n",
    "    print(f\"{filename}: mean={mean_val}, signal_mass={signal_mass}\")\n",
    "\n",
    "# Save results to CSV in the same folder as the first file\n",
    "output_folder = os.path.dirname(file_paths[0])\n",
    "output_file = os.path.join(output_folder, \"mean_and_signal_mass_results_48000.csv\")\n",
    "\n",
    "with open(output_file, mode=\"w\", newline=\"\") as f:\n",
    "    writer = csv.writer(f)\n",
    "    writer.writerow([\"filename\", \"mean_value\", \"signal_mass\"])\n",
    "    writer.writerows(results)\n",
    "\n",
    "print(f\"Results saved to: {output_file}\")"
   ]
  },
  {
   "cell_type": "code",
   "execution_count": null,
   "id": "80e30d31-254a-459c-b273-3beb378e1e87",
   "metadata": {},
   "outputs": [],
   "source": []
  },
  {
   "cell_type": "code",
   "execution_count": null,
   "id": "958edc74-c7a8-4ee7-9a88-d0b9df2588c9",
   "metadata": {},
   "outputs": [],
   "source": []
  }
 ],
 "metadata": {
  "kernelspec": {
   "display_name": "Python 3 (ipykernel)",
   "language": "python",
   "name": "python3"
  },
  "language_info": {
   "codemirror_mode": {
    "name": "ipython",
    "version": 3
   },
   "file_extension": ".py",
   "mimetype": "text/x-python",
   "name": "python",
   "nbconvert_exporter": "python",
   "pygments_lexer": "ipython3",
   "version": "3.11.13"
  }
 },
 "nbformat": 4,
 "nbformat_minor": 5
}
