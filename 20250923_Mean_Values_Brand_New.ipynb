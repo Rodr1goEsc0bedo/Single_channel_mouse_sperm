{
 "cells": [
  {
   "cell_type": "markdown",
   "id": "464d80ea-73e1-443b-88a5-cd9ebbf94cfd",
   "metadata": {},
   "source": [
    "# Open a set of t,x,y images and compute the mean value over a predefined threshold"
   ]
  },
  {
   "cell_type": "markdown",
   "id": "11f6406c-5d21-42c1-84c6-437e44ae93bc",
   "metadata": {},
   "source": [
    "## Libraries ##"
   ]
  },
  {
   "cell_type": "code",
   "execution_count": 20,
   "id": "603ef043-21be-4df2-a14d-d4c867e277d0",
   "metadata": {},
   "outputs": [],
   "source": [
    "import os\n",
    "import numpy as np\n",
    "import tifffile\n",
    "import csv"
   ]
  },
  {
   "cell_type": "markdown",
   "id": "9ed193c2-80e6-44b8-bd07-b5d34589b576",
   "metadata": {},
   "source": [
    "## Functions"
   ]
  },
  {
   "cell_type": "code",
   "execution_count": 21,
   "id": "196ca280-137e-49b6-9118-e317552317f9",
   "metadata": {},
   "outputs": [],
   "source": [
    "def mean_above_threshold(path, thr=130, nframes=500):\n",
    "    \"\"\"\n",
    "    Compute the mean intensity of pixels above a threshold\n",
    "    in the first nframes of a TIFF/OME-TIFF stack.\n",
    "    \n",
    "    Parameters\n",
    "    ----------\n",
    "    path : str\n",
    "        Path to the TIFF file.\n",
    "    thr : int or float, optional\n",
    "        Intensity threshold (default = 128).\n",
    "    nframes : int, optional\n",
    "        Number of frames from the beginning to analyze (default = 100).\n",
    "    \n",
    "    Returns\n",
    "    -------\n",
    "    float\n",
    "        Mean intensity of pixels above threshold, rounded to 2 decimals.\n",
    "        Returns np.nan if no pixel is above the threshold.\n",
    "    \"\"\"\n",
    "    img = tifffile.imread(path)\n",
    "    subset = img[:nframes]\n",
    "\n",
    "    mask = subset > thr\n",
    "    if mask.any():\n",
    "        return round(float(subset[mask].mean()), 2)\n",
    "    else:\n",
    "        return np.nan  # no values above threshold"
   ]
  },
  {
   "cell_type": "markdown",
   "id": "717fbb4e-c170-4591-9dd2-0be25969adea",
   "metadata": {},
   "source": [
    "## Load data and set parameters"
   ]
  },
  {
   "cell_type": "code",
   "execution_count": 22,
   "id": "4431c129-6337-4cde-a03d-0dee0f3b876c",
   "metadata": {},
   "outputs": [
    {
     "data": {
      "text/plain": [
       "['F:\\\\ROIs_refinadas\\\\Sin_NED\\\\Exp_20250910_Sin_NED\\\\20250910_M3_cells2\\\\roi_00_ctr.ome.tif',\n",
       " 'F:\\\\ROIs_refinadas\\\\Sin_NED\\\\Exp_20250910_Sin_NED\\\\20250910_M3_cells2\\\\roi_00_iono.ome.tif',\n",
       " 'F:\\\\ROIs_refinadas\\\\Sin_NED\\\\Exp_20250910_Sin_NED\\\\20250910_M3_cells2\\\\roi_00_mib1.ome.tif',\n",
       " 'F:\\\\ROIs_refinadas\\\\Sin_NED\\\\Exp_20250910_Sin_NED\\\\20250910_M3_cells2\\\\roi_01_ctr.ome.tif',\n",
       " 'F:\\\\ROIs_refinadas\\\\Sin_NED\\\\Exp_20250910_Sin_NED\\\\20250910_M3_cells2\\\\roi_01_iono.ome.tif',\n",
       " 'F:\\\\ROIs_refinadas\\\\Sin_NED\\\\Exp_20250910_Sin_NED\\\\20250910_M3_cells2\\\\roi_01_mib1.ome.tif',\n",
       " 'F:\\\\ROIs_refinadas\\\\Sin_NED\\\\Exp_20250910_Sin_NED\\\\20250910_M3_cells2\\\\roi_02_ctr.ome.tif',\n",
       " 'F:\\\\ROIs_refinadas\\\\Sin_NED\\\\Exp_20250910_Sin_NED\\\\20250910_M3_cells2\\\\roi_02_iono.ome.tif',\n",
       " 'F:\\\\ROIs_refinadas\\\\Sin_NED\\\\Exp_20250910_Sin_NED\\\\20250910_M3_cells2\\\\roi_02_mib1.ome.tif',\n",
       " 'F:\\\\ROIs_refinadas\\\\Sin_NED\\\\Exp_20250910_Sin_NED\\\\20250910_M3_cells2\\\\roi_03_ctr.ome.tif',\n",
       " 'F:\\\\ROIs_refinadas\\\\Sin_NED\\\\Exp_20250910_Sin_NED\\\\20250910_M3_cells2\\\\roi_03_iono.ome.tif',\n",
       " 'F:\\\\ROIs_refinadas\\\\Sin_NED\\\\Exp_20250910_Sin_NED\\\\20250910_M3_cells2\\\\roi_03_mib1.ome.tif']"
      ]
     },
     "execution_count": 22,
     "metadata": {},
     "output_type": "execute_result"
    }
   ],
   "source": [
    "main_dir = r\"F:\\ROIs_refinadas\\Sin_NED\\Exp_20250910_Sin_NED\\20250910_M3_cells2\"\n",
    "# Extensiones a considerar\n",
    "exts = (\".ome.tif\", \".ome.tiff\")\n",
    "\n",
    "file_paths = [\n",
    "    os.path.join(main_dir, f) for f in sorted(os.listdir(main_dir))\n",
    "    if f.lower().endswith(exts)\n",
    "    ]\n",
    "\n",
    "file_paths"
   ]
  },
  {
   "cell_type": "markdown",
   "id": "9868c34e-50da-4490-bc48-fcaafa790ef7",
   "metadata": {},
   "source": [
    "## Perform analysis"
   ]
  },
  {
   "cell_type": "code",
   "execution_count": 23,
   "id": "fde3ef30-b99f-4826-93e4-ef4e1522b041",
   "metadata": {},
   "outputs": [
    {
     "name": "stdout",
     "output_type": "stream",
     "text": [
      "roi_00_ctr.ome.tif: 134.35\n",
      "roi_00_iono.ome.tif: 135.13\n",
      "roi_00_mib1.ome.tif: 134.73\n",
      "roi_01_ctr.ome.tif: 135.32\n",
      "roi_01_iono.ome.tif: 135.14\n",
      "roi_01_mib1.ome.tif: 136.16\n",
      "roi_02_ctr.ome.tif: 131.78\n",
      "roi_02_iono.ome.tif: 131.74\n",
      "roi_02_mib1.ome.tif: 131.78\n",
      "roi_03_ctr.ome.tif: 131.77\n",
      "roi_03_iono.ome.tif: 131.68\n",
      "roi_03_mib1.ome.tif: 131.71\n",
      "Results saved to: F:\\ROIs_refinadas\\Sin_NED\\Exp_20250910_Sin_NED\\20250910_M3_cells2\\mean_above_threshold_results.csv\n"
     ]
    }
   ],
   "source": [
    "# Collect results\n",
    "results = []\n",
    "for path in file_paths:\n",
    "    mean_val = mean_above_threshold(path, thr=thr, nframes=nframes)\n",
    "    filename = os.path.basename(path)\n",
    "    results.append((filename, mean_val))\n",
    "    print(f\"{filename}: {mean_val}\")\n",
    "\n",
    "# Save results to CSV in the same folder as the first file\n",
    "output_folder = os.path.dirname(file_paths[0])\n",
    "output_file = os.path.join(output_folder, \"mean_above_threshold_results.csv\")\n",
    "\n",
    "with open(output_file, mode=\"w\", newline=\"\") as f:\n",
    "    writer = csv.writer(f)\n",
    "    writer.writerow([\"filename\", \"mean_value\"])\n",
    "    writer.writerows(results)\n",
    "\n",
    "print(f\"Results saved to: {output_file}\")"
   ]
  },
  {
   "cell_type": "code",
   "execution_count": null,
   "id": "80e30d31-254a-459c-b273-3beb378e1e87",
   "metadata": {},
   "outputs": [],
   "source": []
  }
 ],
 "metadata": {
  "kernelspec": {
   "display_name": "Python 3 (ipykernel)",
   "language": "python",
   "name": "python3"
  },
  "language_info": {
   "codemirror_mode": {
    "name": "ipython",
    "version": 3
   },
   "file_extension": ".py",
   "mimetype": "text/x-python",
   "name": "python",
   "nbconvert_exporter": "python",
   "pygments_lexer": "ipython3",
   "version": "3.11.13"
  }
 },
 "nbformat": 4,
 "nbformat_minor": 5
}
